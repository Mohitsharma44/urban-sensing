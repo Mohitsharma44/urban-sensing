{
 "metadata": {
  "name": "",
  "signature": "sha256:7013829e62f206a40704341e64f8ecc01426a4f4b9a4afc83ad131c0c9717538"
 },
 "nbformat": 3,
 "nbformat_minor": 0,
 "worksheets": [
  {
   "cells": [
    {
     "cell_type": "markdown",
     "metadata": {},
     "source": [
      "# Urban Sensing I - Pysical Computing\n",
      "### Bottom-up Techniques for Collecting Data\n",
      "\n",
      "---\n",
      "\n",
      "**Instructors :**\n",
      "**Email :**\n",
      "**Date/Time/Location :**\n",
      "\n",
      "### Course Description\n",
      "\n",
      "### Schedule\n",
      "- Class 1 - Introduction to Urban Sensing\n",
      "    - Electricity, circuits, electrical components, tools\n",
      "    - setting up Arduino\n",
      "- Class 2 - Microcontrolers(Arudino)\n",
      "    - overview of microcontrollers\n",
      "    - programming Arduino\n",
      "- Class 3 - Serial Communication/Analog\n",
      "    - analog input\n",
      "    - digital input/output\n",
      "    - serial communication\n",
      "- Class 4 - Sensors\n",
      "    - Guest Lecture\n",
      "    - sensor interfacing, datasheets\n",
      "- Class 5 - Ensuring Data Quality\n",
      "    - midterm project presentations\n",
      "    - calibration, resolution\n",
      "- Class 6 - Wireless Communication\n",
      "    - begin final project\n",
      "    - connecting to wifi\n",
      "    - connecting over GSM\n",
      "- Class 7 - To the web!\n",
      "    - discuss final projects\n",
      "    - web-based tools (Twilio, temboo)\n",
      "    - serial to node.js(or Tornado)\n",
      "- Class 8 - Considerations for deployment\n",
      "    - discuss final projects\n",
      "    - Power usage, building boxes\n",
      "- Class 9 - Review and in-class workshops\n",
      "- Class 10 - Final Project Presentations\n"
     ]
    },
    {
     "cell_type": "markdown",
     "metadata": {},
     "source": [
      "### Labs\n",
      "\n",
      "1. Blink LED using arduino\n",
      "2. Serial Communication Lab\n",
      "2. Communication over GSM\n",
      "3. Communication to the web\n",
      "    - serial to the web(node.js or tornado)"
     ]
    },
    {
     "cell_type": "markdown",
     "metadata": {},
     "source": [
      "### Course Prep To-Do\n",
      "\n",
      "- Idenfity existing urban sensing projects\n",
      "- Identify existing off the shelf technologies\n",
      "- Identify guest speakers (3-4)\n",
      "- Talk to JC about funding\n",
      "- Talk to Dr. Koonin\n",
      "- Syllabus"
     ]
    },
    {
     "cell_type": "markdown",
     "metadata": {},
     "source": [
      "### Final Project\n",
      "\n",
      "Working in groups, students will identify an urban issue and devise a method of collecting data to better understand that issue.  The means by which data is collected can vary from continuous real-time collection to discrete sampling.  The \n",
      "\n",
      "The final project contain this workflow:\n",
      "\n",
      "1. Identify an urban problem and determine what data could help you better understand that problem.\n",
      "2. Design a data collection system\n",
      "    - This system should clearly identify the desired data and how the data will help understand/evaluate the problem.   \n",
      "3. Collect data\n",
      "4. \n",
      "\n",
      "---\n",
      "####Notes \n",
      "Lab ?: variation in group measurements of the same thing\n",
      "    consistancy of sensors\n",
      "Calibration\n",
      "Accuracy tolerance \n",
      "Ensuring Data quality\n",
      "measuing uncertaintiy...\n",
      "Analog to digital onversion\n",
      "resolution\n",
      "powering/deployment\n",
      "sample frequency\n",
      "trade-off between resolution and what you need\n",
      "bandwidth\n",
      "\n",
      "discuss consideration on these senarios etc... data storage/power down...\n",
      "envronmental considerations\n",
      "casing logistics\n",
      "where to deploy? stategies for depolyment.  focus on certain things...noise complaint density\n",
      "\n",
      "comparing sensors - sensor to provide data to city agencies (what are standards). useful data.\n",
      "\n",
      "Timestamps/location/\n",
      "\n",
      "fixed or mobile\n",
      "\n",
      "diagrams flow charts etc... "
     ]
    },
    {
     "cell_type": "markdown",
     "metadata": {},
     "source": [
      "### Course Evaluation\n",
      "\n",
      "Students will be grade based on the following.\n",
      "\n",
      "**Documentation of Weekly Assignments/Labs (25%) ** - Students are expected to document all of their work through weekly blog posts, github postings etc... This documentation should be available on the web and will link to the course website.\n",
      "\n",
      "**Midterm Project (10%)** - Midterm projects will done individual and should demonstrate the students' understanding of class concepts.  Students will have 5mins to present their work to the class.\n",
      "\n",
      "**Final Project (35%)** - Final projects will be conducted in groups.  The group is expected to meet the project requirements (as specified below) as well as present their work to the class.  Groups will have 15mins to present followed by questions.  \n",
      "\n",
      "**Attendence (30%)** - Attendence at all classes is requied unless permission is specifically requested from the professor for legitimate reasons."
     ]
    },
    {
     "cell_type": "markdown",
     "metadata": {},
     "source": [
      "### Resources\n",
      "\n",
      "- *Physical Computing: Sensing and Controlling the Physical World with Computers*, Dan O\u2019Sullivan and Tom Igoe \u00a92004, Thomson Course Technology PTR; ISBN: 159200346X\n",
      "\n",
      "Includes all the stuff covered in class and lots of advanced examples as well. This book was developed from this course. The code examples in the book are not written for Arduino, but the concepts for each exercise apply to Arduino as well as the microcontrollers described in the book."
     ]
    }
   ],
   "metadata": {}
  }
 ]
}