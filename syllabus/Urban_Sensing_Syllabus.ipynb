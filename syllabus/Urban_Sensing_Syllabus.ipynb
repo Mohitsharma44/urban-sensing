{
 "metadata": {
  "name": "",
  "signature": "sha256:483bad80c627c457a40b5edfacc25fbe1e9a133b87fb36be61933472b7bb3c3e"
 },
 "nbformat": 3,
 "nbformat_minor": 0,
 "worksheets": [
  {
   "cells": [
    {
     "cell_type": "markdown",
     "metadata": {},
     "source": [
      "# Urban Sensing I\n",
      "### Bottom-up Techniques for Deploying Sensors\n",
      "\n",
      "---\n",
      "<div style=\"float: right; margin-left: 20px; margin-bottom: 10px;\">\n",
      "<img src=\"sensor.jpg\" style='width: 450px;'>\n",
      "<p style=\"text-align: right; margin-top: 0px; font-style: italic;\">sensor-controlled pedestrian crossing</p>\n",
      "</div>\n",
      "\n",
      "**Instructor :** Nicholas Johnson - nicholas.johnson@nyu.edu  <br />\n",
      "**Lab Assistant :** Mohit Sanjay Sharma <br /> \n",
      "**Date/Time/Location :** TBD \n",
      "\n",
      "### Course Description\n",
      "Urban science revolves around using data to explore and answer questions about cities. Often this data is available through a variety of sources and is easily obtainable. In some cases, however, the necessary data may not exist and the need for building and deploying sensors becomes necessary. Simultaneously, the recent onset of new low-cost technologies, the ubiquitous use of wifi and cellular communication and a drive for smart and sustainable cities have opened the possibility for rapid prototyping and deploying of sensors in urban spaces. Given this context, what can we learn about cities from the deployment of sensors and how can we leverage these technologies to better understand a city's infrastructure, environment and people?\n",
      "\n",
      "This course will introduce the fundamentals of prototyping sensors and the techniques and considerations for deployment in urban spaces. Through the course students will learn the basics of electricity, programming microcontrollers, reading analog/digital inputs and wireless data transmission. Students will be challenged to not only explore sensor integration and data collection but to also think more broadly on how deploying sensors can help quantify and understand an urban issues.\n",
      "\n",
      "### Schedule\n",
      "- Class 1 - Introduction to Urban Sensing\n",
      "    - Urban sensing vs Smart Cities\n",
      "    - What to measure? Infrastructure, environment, people\n",
      "    - Scale of sensors: what are we talking about?\n",
      "    - Electricity, circuits, electrical components, tools\n",
      "    - setting up Arduino\n",
      "- Class 2 - Microcontrolers(Arudino)\n",
      "    - overview of microcontrollers\n",
      "    - programming Arduino\n",
      "    - Lab: Blinky\n",
      "- Class 3 - Serial Communication\n",
      "    - serial communication\n",
      "    - analog input\n",
      "    - digital input/output\n",
      "- Class 4 - Sensors\n",
      "    - Guest Lecture\n",
      "    - sensor interfacing, datasheets\n",
      "    - where to buy\n",
      "- Class 5 - Ensuring Data Quality/ Field Trip to QC\n",
      "    - midterm project presentations\n",
      "    - calibration, resolution\n",
      "- Class 6 - Wireless Communication\n",
      "    - begin final project\n",
      "    - GSM/Bluetooth/Wifi/Radio\n",
      "    - Lab: Connecting over GSM\n",
      "- Class 7 - To the web!\n",
      "    - discuss final projects\n",
      "    - web-based tools (Twilio, temboo)\n",
      "    - serial to node.js(or Tornado)\n",
      "- Class 8 - Considerations for deployment\n",
      "    - discuss final projects\n",
      "    - Power usage, building boxes, data storage\n",
      "- Class 9 - Review and in-class workshops\n",
      "- Class 10 - Final Project Presentations\n"
     ]
    },
    {
     "cell_type": "markdown",
     "metadata": {},
     "source": [
      "### Course Materials\n",
      "\n",
      "Student are required to have an Arduino kit.  These will be used by students individually over the first 5 weeks of the class.  Other sensors student can purchase online from a variety of sites (Adafruit, Sparkfun, Seeed Studio).  \n",
      "\n",
      "*Please remember shipping will take time, parts will fail, orders will be wrong etc...    **Order early!!!** *"
     ]
    },
    {
     "cell_type": "markdown",
     "metadata": {},
     "source": [
      "### Labs\n",
      "\n",
      "1. Blink LED using arduino\n",
      "2. Serial Communication Lab\n",
      "2. Communication over GSM\n",
      "3. Communication to the web"
     ]
    },
    {
     "cell_type": "markdown",
     "metadata": {},
     "source": [
      "### Final Project\n",
      "\n",
      "Working in groups, students will identify an urban issue and devise a method of collecting data to gain insight on that issue.  The means by which data is collected can vary from continuous real-time collection to discrete sampling and will be left to the students to decide how best to approach the issue. \n",
      "\n",
      "The final project should contain this workflow:\n",
      "\n",
      "1. Clearly identify an urban problem and determine what data could help you better understand that problem.\n",
      "2. Design a data collection system\n",
      "    - students should be able to clearly identify the desired data, how the data will help understand/evaluate the problem and the necessary considerations for deploying the device.\n",
      "   \n",
      "3. Build and deploy prototype sensor\n",
      "    - this should be considered and 'experiment' - a way to test and see if you sensor and system foc collecting data actually works and helps clarify the proposed problem\n",
      "\n",
      "Students will be require to give a final presentation about their project explaining the above steps.  Students should describe their methods, explain how they came to their conclusions and propose their (potential) next steps for the project.  \n",
      "\n"
     ]
    },
    {
     "cell_type": "markdown",
     "metadata": {},
     "source": [
      "### Course Evaluation\n",
      "\n",
      "Students will be graded on the following.\n",
      "\n",
      "**Documentation of Weekly Assignments/Labs (25%) ** - Students are expected to document all of their work through weekly blog posts, github postings etc... This documentation should be available on the web and will link to the course website.\n",
      "\n",
      "**Midterm Project (10%)** - Midterm projects will done individual and should demonstrate the students' understanding of class concepts.  Students will have 5mins to present their work to the class.\n",
      "\n",
      "**Final Project (35%)** - Final projects will be conducted in groups.  The group is expected to meet the project requirements (as specified below) as well as present their work to the class.  Groups will have 15mins to present followed by questions.  \n",
      "\n",
      "**Attendence (30%)** - Attendence at all classes is requied unless permission is specifically requested from the professor for legitimate reasons."
     ]
    },
    {
     "cell_type": "markdown",
     "metadata": {},
     "source": [
      "### Resources\n",
      "\n",
      "- *Physical Computing: Sensing and Controlling the Physical World with Computers*, Dan O\u2019Sullivan and Tom Igoe \u00a92004, Thomson Course Technology PTR; ISBN: 159200346X\n",
      "\n"
     ]
    }
   ],
   "metadata": {}
  }
 ]
}