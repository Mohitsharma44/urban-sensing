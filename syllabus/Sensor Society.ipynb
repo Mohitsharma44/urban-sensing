{
 "metadata": {
  "name": "",
  "signature": "sha256:1df9bb3aa6be856d3094011c8c423f29bc4786de6e7275ded95912fa777584a1"
 },
 "nbformat": 3,
 "nbformat_minor": 0,
 "worksheets": [
  {
   "cells": [
    {
     "cell_type": "markdown",
     "metadata": {},
     "source": [
      "# What is the Sensor Society?\n",
      "\n",
      "---\n",
      "\n",
      "from lecture found [here](http://cccs.uq.edu.au/audio/sensor-society-audio/burdon.mp3)\n",
      "\n",
      "- drones are just a way of getting data\n",
      "\n",
      "- collection of big data\n",
      "\n",
      "- about the relationshiop about us and our device and the data that our devices produce, the understanindg of this and the infrastructre which holds all of this.\n",
      "\n",
      "### Sensors\n",
      "- Speed camera, \n",
      "\n",
      "### Example: speed detection\n",
      "**sensors are always on** - always collecting data.  What's more interesting is the amount of sensors and how they work together.\n",
      "\n",
      "**what are the purposes of some of these**.  \n",
      "\n",
      "Senors change devices.  There is a difference.  there is interactivity with some sensors.  Some senors require people to be passive.\n",
      "\n",
      "---\n",
      "\n",
      "**Passivitiy** is important for some sensors because if we know they are sensing something we will change our behavior.\n",
      "**Active** sensing is a feedback look between the user and sensor\n",
      "\n",
      "(speed sensor) - more sensors = more data = utitlity = more sensors\n",
      "- this is an unprecidentd period of data accululation.\n",
      "- 90% of human data has been created in the last couple of years\n",
      "\n",
      "Photo on instagram - there is the photo but there all kinds of other data.  It's not about just the activity but remembering how the monitoring is taken place. \n",
      "\n",
      "Mass of data explosion means we need new processes to make sense of this data - the rehtoric of big data and the use of predicitce analytics to make sense of the data.  Predicitive analytics require certain processes and logics... ie we need all data to work out the correlations...we put data sets together to get new insights.  \n",
      "\n",
      "All Data - obtained, and held.  We must create the perfect meta-log of our life and history.  It's about recording evidence.\n",
      "\n",
      ">Key Point: We need infrastructe to do all of this and the Sensor Society is all about the infrastructure.\n",
      "\n",
      "---\n",
      "\n",
      "### Survelliance vs Sensor Society\n",
      "\n",
      "**Survellance Society** - purposful, routine and systematic.  This is about targeting individual or groups for a specific purpose.  Sensor society is about non-purposeful collection.  Collecting data in relation to environments.  Its not about a person but the room and environment that the people are in that is the target."
     ]
    },
    {
     "cell_type": "markdown",
     "metadata": {},
     "source": [
      "Turning content into metadata brings up lots of privacy issues.  For example, looking at tweeting patterns and not the content of the tweets. \n",
      "\n",
      "### Power and Control\n",
      "\n",
      "Infrastructures give sense to sensors.\n",
      "Who owns, controls the sensors and infrastructures.\n",
      "\n",
      "While privacy and survillance are issues, but the issues that arise from the sensor society are something different.  About how we negotiate the reality of what is happening and how we factor that into our lives."
     ]
    }
   ],
   "metadata": {}
  }
 ]
}