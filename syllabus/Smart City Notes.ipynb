{
 "metadata": {
  "name": "",
  "signature": "sha256:0dc971b381e91ab7b078344a9890ba07516e48be302cf847fbea563b89c89278"
 },
 "nbformat": 3,
 "nbformat_minor": 0,
 "worksheets": [
  {
   "cells": [
    {
     "cell_type": "markdown",
     "metadata": {},
     "source": [
      "Robert Moses was a bringer of technology: the automobile and designed the city around that technology.  A big win for GM.  Now people are looking to digital technologies to design the new UTOPIAN City.  Instead of road networks there are digital networks.  Here comes IBM.  We can compute this and that which will reduce traffic and this and that.\n",
      "\n",
      "People(IBM) view senors as the fix to the 20th century fails in urban design.  This is a new approach, using apps to bring people together to help fix parts of the city etc...\n",
      "\n",
      "This is really the crux of Bottom-Up Sensing.  The technology has become available to people to build thier own sensors, host their own data and perform their own analysis.  In some ways this releives data privacy issues and the big brother effect...?\n",
      "\n",
      "One benefit of rapid prototyping is that it can be replicated literally overnight...one of the benefits of open-source designing etc.."
     ]
    },
    {
     "cell_type": "markdown",
     "metadata": {},
     "source": [
      "What about unintended consequences?  Survelliance?  "
     ]
    },
    {
     "cell_type": "markdown",
     "metadata": {},
     "source": [
      "Who will be benefiting?  For example, an IBM engineer will view efficiency, an app developer will see more social interactions and a mayor will see more openness etc..."
     ]
    },
    {
     "cell_type": "markdown",
     "metadata": {},
     "source": [
      "## Biosensing : sensing people\n",
      "\n",
      "EEG - "
     ]
    }
   ],
   "metadata": {}
  }
 ]
}