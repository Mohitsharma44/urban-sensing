{
 "metadata": {
  "name": "",
  "signature": "sha256:86808d28933d20b9766a6d2d246970d8119b9ac5ca9971868481b7806a97b9c6"
 },
 "nbformat": 3,
 "nbformat_minor": 0,
 "worksheets": [
  {
   "cells": [
    {
     "cell_type": "markdown",
     "metadata": {},
     "source": [
      "## Other notes\n",
      "\n",
      "Sensors are not just individual points.  They can also be platforms that help to understand the city scape as opposed to a simple point in time.\n",
      "\n",
      "# How?\n",
      "##Insitu Monitoring v Mobile sensing\n",
      "\n",
      "Mobile phones create networks, lots of people oriented data being generated.\n",
      "    - containe time/place\n",
      "    - issues converning privacy\n",
      "\n",
      "### Single sensors vs network sensors\n",
      "\n",
      "#What are you sensing?\n",
      "\n",
      "1. Environmental sensors\n",
      "2. Intrastructure \n",
      "3. People\n",
      "    - social behavior\n",
      "    - sentiment, events, mobility\n",
      "\n",
      "These are all individual things but there is much cross over between them.\n",
      "\n",
      "- air pollution, water quality, gas, bridges/tunnel assesment, trafict, bikes, people, energy\n",
      "\n",
      "\n",
      "# sensing vs survelliance?"
     ]
    },
    {
     "cell_type": "markdown",
     "metadata": {},
     "source": [
      "Reproducable and Repatability \n",
      "\n",
      "Trainning - is one qualified\n",
      "Accesability - do you have access to information\n",
      "Resources - \n",
      "\n",
      "These create a boundary around science\n",
      "\n",
      "Standards.  Accuracy standards\n",
      "\n",
      "Sensor have combined all of these things...\n",
      "\n",
      "###Pros/cons of sensors\n",
      "Sensors enable reproducability, replicability, standards etc..  People can go through data collection, processing in a simple process..\n",
      "Con: What are we measuring?  Air quality monitors..."
     ]
    },
    {
     "cell_type": "markdown",
     "metadata": {},
     "source": [
      "## Notes from\n",
      "https://plus.google.com/events/cge6hd5ffuvf8duk57fp242c1sc\n",
      "\n",
      "Standards vs Certifications\n",
      "for example a smoke alarm must adhere to UL217 certification through an air monitor does not require anything.\n",
      "\n",
      "A measuring standard"
     ]
    },
    {
     "cell_type": "markdown",
     "metadata": {},
     "source": [
      "## Resources\n",
      "\n",
      "Open Sensors.io https://opensensors.io/\n",
      "\n",
      "Smart Cities: Reality vs Marketing \n",
      "    - big tech companies sellig the jetsons life style.. \n",
      "    - and where does the data go? usually to the big tech companies\n",
      "    - solution looking for a problem\n",
      "    \n"
     ]
    }
   ],
   "metadata": {}
  }
 ]
}