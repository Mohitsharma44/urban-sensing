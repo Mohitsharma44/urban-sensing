{
 "cells": [
  {
   "cell_type": "markdown",
   "metadata": {
    "slideshow": {
     "slide_type": "slide"
    }
   },
   "source": []
  },
  {
   "cell_type": "markdown",
   "metadata": {
    "slideshow": {
     "slide_type": "slide"
    }
   },
   "source": [
    "# Diodes\n",
    "-----------------\n",
    "\n",
    "-----------------\n",
    "\n",
    "#### A Diode is a passive two terminal component, with a primary function to allow the flow of current in one direction only.\n",
    "-----------------\n",
    "\n",
    "-----------------\n",
    "\n",
    "<img src=\"files/diode.png\" alt=\"Diode\" align=\"center\" style=\"height: 150px\"/><br />"
   ]
  },
  {
   "cell_type": "markdown",
   "metadata": {
    "slideshow": {
     "slide_type": "notes"
    }
   },
   "source": [
    "* So once we understand the simple passive components like resistors and capacitors, we move to the world of semiconductors. \n",
    "* A semi-conductor, as the name suggests has its conductivity between that of a conductor like aluminium, copper etc and insulators like glass.\n",
    "* The key function of an ideal diode is to control the direction of current-flow called the forward direction."
   ]
  },
  {
   "cell_type": "markdown",
   "metadata": {},
   "source": []
  }
 ],
 "metadata": {
  "celltoolbar": "Slideshow",
  "kernelspec": {
   "display_name": "Python 2",
   "language": "python",
   "name": "python2"
  },
  "language_info": {
   "codemirror_mode": {
    "name": "ipython",
    "version": 2
   },
   "file_extension": ".py",
   "mimetype": "text/x-python",
   "name": "python",
   "nbconvert_exporter": "python",
   "pygments_lexer": "ipython2",
   "version": "2.7.6"
  }
 },
 "nbformat": 4,
 "nbformat_minor": 0
}
