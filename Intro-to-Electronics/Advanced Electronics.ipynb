{
 "cells": [
  {
   "cell_type": "markdown",
   "metadata": {
    "slideshow": {
     "slide_type": "slide"
    }
   },
   "source": [
    "# Semiconductors\n",
    "-----------------\n",
    "\n",
    "-----------------\n",
    "\n",
    "#### A semiconductor has conducitivity between that of a conductor and an insulator."
   ]
  },
  {
   "cell_type": "markdown",
   "metadata": {
    "slideshow": {
     "slide_type": "notes"
    }
   },
   "source": [
    "* So once we understand the simple passive components like resistors and capacitors, we move to the world of semiconductors. \n",
    "* A semi-conductor, as the name suggests has its conductivity between that of a conductor like aluminium, copper etc and insulators like glass.\n",
    "* The understanding of a semiconductor and its properties relies on quantum physics to explain the motion of electrons and holes in a crystal lattice\n",
    "* A semiconductor requires an unique arrangement of atoms for it be a suitable candidate for a semiconductor. Lets look at the energy band..\n"
   ]
  },
  {
   "cell_type": "markdown",
   "metadata": {
    "slideshow": {
     "slide_type": "fragment"
    }
   },
   "source": [
    "-----------------\n",
    "\n",
    "-----------------\n",
    "\n",
    "<img src=\"files/semiconductor.png\" alt=\"Diode\" align=\"center\" style=\"height: 350px\"/><br />"
   ]
  },
  {
   "cell_type": "markdown",
   "metadata": {
    "slideshow": {
     "slide_type": "notes"
    }
   },
   "source": [
    "* The unique arrangement of atoms that produces such a energy band is shown by elements like Silicon, Germanium, Zinc and few others.\n",
    "* Electrical conductivity of a semiconductor increases with temperature (opposite of conductor)\n",
    "* The electrical properties of a semiconductor material can be modified by controlled addition of impurities, or by the application of electrical fields or light"
   ]
  },
  {
   "cell_type": "markdown",
   "metadata": {
    "slideshow": {
     "slide_type": "subslide"
    }
   },
   "source": [
    "## Types of Semiconductors \n",
    "------------------------------------\n",
    "\n",
    "------------------------------------\n",
    "#### N Type: Doped with element which has more number of electrons than the semiconductor element (creating extra electrons)\n",
    "#### P Type: Doped with element which has less number of electrons than the semiconductor element (creating extra holes)"
   ]
  },
  {
   "cell_type": "markdown",
   "metadata": {
    "slideshow": {
     "slide_type": "notes"
    }
   },
   "source": [
    "* As per the theory of semiconductors, impure semiconductors are called extrinsic semiconductors and we will be dealing mostly with impure semiconductors.\n",
    "* Depending on the type of impurity added we have two types of semiconductors: N - type and P-type semiconductors.\n",
    "\n",
    "    (If interested)\n",
    "    * Talk about covalent bond of silicon and how adding impurity (N type: Antimony, P type: Boron) helps in changing the fermi band level"
   ]
  },
  {
   "cell_type": "markdown",
   "metadata": {
    "slideshow": {
     "slide_type": "slide"
    }
   },
   "source": [
    "# Diodes\n",
    "-----------------\n",
    "\n",
    "-----------------\n",
    "\n",
    "#### A Diode is a passive two terminal component, with a primary function to allow the flow of current in one direction only.\n",
    "-----------------\n",
    "\n",
    "-----------------\n",
    "\n",
    "<img src=\"files/diode.png\" alt=\"Diode\" align=\"center\" style=\"height: 150px\"/><br />"
   ]
  },
  {
   "cell_type": "markdown",
   "metadata": {
    "slideshow": {
     "slide_type": "notes"
    }
   },
   "source": [
    "* Combining the P-type semiconductor and N-type semiconductor gives us another basic electrical device known as a Diode.\n",
    "* The key function of an ideal diode is to control the direction of current-flow called the forward direction."
   ]
  },
  {
   "cell_type": "markdown",
   "metadata": {
    "slideshow": {
     "slide_type": "subslide"
    }
   },
   "source": [
    "## Working of Diodes\n",
    "---------------------------\n",
    "\n",
    "---------------------------\n",
    "####Diffusion:\n",
    "\n",
    "<img src=\"files/diode_diffusion.gif\" alt=\"Diode_Diffusion\" align=\"center\" style=\"height: 250px\"/><br />"
   ]
  },
  {
   "cell_type": "markdown",
   "metadata": {
    "slideshow": {
     "slide_type": "notes"
    }
   },
   "source": [
    "* The n type semiconductor has higher concentration of electrons compared to holes and the p type semiconductor has higher concentration of holes.\n",
    "* Due to this a process called diffusion takes place. In this process free electrons from the n side will diffuse (spread) into the p side and combine with holes present there, leaving a positive immobile (not moveable) ion in the n side. \n",
    "* Hence few atoms on the p side are converted into negative ions. Similarly few atoms on the n-side will get converted to positive ions.\n",
    "* Due to the presence of these positive and negative ions a static electric field called as \"barrier potential\" is created across the p-n junction of the diode which is called as \"barrier potential\"."
   ]
  },
  {
   "cell_type": "markdown",
   "metadata": {
    "slideshow": {
     "slide_type": "fragment"
    }
   },
   "source": [
    "####Forward-Bias: \n",
    "\n",
    "<img src=\"files/diode_working.gif\" alt=\"Diode_Working\" align=\"center\" style=\"height: 250px\"/><br />"
   ]
  },
  {
   "cell_type": "markdown",
   "metadata": {},
   "source": [
    "* Due to the negative terminal on the n-side, electrons from the n-side are pushed towards the p-region and vice versa on the p-side."
   ]
  }
 ],
 "metadata": {
  "celltoolbar": "Slideshow",
  "kernelspec": {
   "display_name": "Python 2",
   "language": "python",
   "name": "python2"
  },
  "language_info": {
   "codemirror_mode": {
    "name": "ipython",
    "version": 2
   },
   "file_extension": ".py",
   "mimetype": "text/x-python",
   "name": "python",
   "nbconvert_exporter": "python",
   "pygments_lexer": "ipython2",
   "version": "2.7.6"
  }
 },
 "nbformat": 4,
 "nbformat_minor": 0
}
